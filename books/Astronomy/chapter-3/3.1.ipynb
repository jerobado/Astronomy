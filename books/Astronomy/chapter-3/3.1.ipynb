{
 "cells": [
  {
   "cell_type": "code",
   "execution_count": 1,
   "id": "immediate-english",
   "metadata": {},
   "outputs": [],
   "source": [
    "# Example 3.1\n",
    "# Calculating Periods\n",
    "# Problem 1\n",
    "# Imagine an object is traveling around the Sun. What would be the orbital period of the object if its orbit has a semimajor axis of 50 AU?"
   ]
  },
  {
   "cell_type": "code",
   "execution_count": 2,
   "id": "hindu-right",
   "metadata": {},
   "outputs": [],
   "source": [
    "# Formula: P = math.sqrt(pow(a, 3))"
   ]
  },
  {
   "cell_type": "code",
   "execution_count": 12,
   "id": "dominican-chick",
   "metadata": {},
   "outputs": [],
   "source": [
    "# Where:\n",
    "a = 50 # AU"
   ]
  },
  {
   "cell_type": "code",
   "execution_count": 13,
   "id": "coordinated-heater",
   "metadata": {},
   "outputs": [
    {
     "name": "stdout",
     "output_type": "stream",
     "text": [
      "Orbital period of the object is 353.55 years\n"
     ]
    }
   ],
   "source": [
    "# Solution:\n",
    "import math\n",
    "\n",
    "P = math.sqrt(pow(a, 3))\n",
    "# Answer\n",
    "print(f'Orbital period of the object is {P:.2f} years')"
   ]
  },
  {
   "cell_type": "code",
   "execution_count": 14,
   "id": "considered-fantasy",
   "metadata": {},
   "outputs": [
    {
     "name": "stdout",
     "output_type": "stream",
     "text": [
      "Orbital period of an asteriod is 5.20 years\n"
     ]
    }
   ],
   "source": [
    "# Problem 2\n",
    "# What would be the orbital period of an asteroid (a rocky chunk between Mars and Jupiter) with a semimajor axis of 3 AU?\n",
    "# where:\n",
    "a2 = 3 # AU\n",
    "\n",
    "# Solution\n",
    "asteriod_orbital_period = math.sqrt(pow(a2, 3))\n",
    "# Answer\n",
    "print(f'Orbital period of an asteriod is {asteriod_orbital_period:.2f} years')"
   ]
  },
  {
   "cell_type": "code",
   "execution_count": 29,
   "id": "gentle-italic",
   "metadata": {},
   "outputs": [
    {
     "name": "stdout",
     "output_type": "stream",
     "text": [
      "Kepler's Third Law says P² ≈ a³\n",
      "Venus: 0.3844 ≈ 0.3732\n",
      "Earth: 1.0000 ≈ 1.0000\n"
     ]
    }
   ],
   "source": [
    "# Problem 3\n",
    "# Verify if Venus and Earth obey the Kepler's Third Law\n",
    "# where:\n",
    "# Venus\n",
    "venus_period = 0.62 # year\n",
    "venus_semimajoraxis = 0.72 # AU\n",
    "# Earth\n",
    "earth_period = 1.00 # year\n",
    "earth_semimajoraxis = 1.00 # AU\n",
    "\n",
    "# Solution\n",
    "print('Kepler\\'s Third Law says P\\u00b2 ≈ a\\N{SUPERSCRIPT THREE}')\n",
    "print(f'Venus: {pow(venus_period, 2):.4f} ≈ {pow(venus_semimajoraxis, 3):.4f}')\n",
    "print(f'Earth: {pow(earth_period, 2):.4f} ≈ {pow(earth_semimajoraxis, 3):.4f}')"
   ]
  },
  {
   "cell_type": "code",
   "execution_count": 31,
   "id": "cubic-commons",
   "metadata": {},
   "outputs": [
    {
     "name": "stdout",
     "output_type": "stream",
     "text": [
      "Saturn: 867.8916 ≈ 868.2507\n",
      "Jupiter: 140.6596 ≈ 140.6080\n"
     ]
    }
   ],
   "source": [
    "# Problem 4\n",
    "# Verify if Saturn and Jupier obey the Kepler's Third Law\n",
    "\n",
    "# where\n",
    "saturn_period = 29.46 # years\n",
    "saturn_sma = 9.54 # AU\n",
    "jupiter_period = 11.86 # years\n",
    "jupiter_sma = 5.20 # AU\n",
    "\n",
    "# Solution\n",
    "print(f'Saturn: {pow(saturn_period, 2):.4f} ≈ {pow(saturn_sma, 3):.4f}')\n",
    "print(f'Jupiter: {pow(jupiter_period, 2):.4f} ≈ {pow(jupiter_sma, 3):.4f}')"
   ]
  },
  {
   "cell_type": "code",
   "execution_count": 53,
   "id": "boring-breed",
   "metadata": {},
   "outputs": [
    {
     "name": "stdout",
     "output_type": "stream",
     "text": [
      "Earth: 1.0 years\n",
      "Mars: 1.87 years\n",
      "Jupiter: 11.87 years\n",
      "Saturn: 29.66 years\n",
      "Uranus: 84.26 years\n",
      "Neptune: 164.89 years\n",
      "Pluto: 248.08 years\n"
     ]
    }
   ],
   "source": [
    "# Problem 5\n",
    "# What is the orbital period of Earth, Mars, Jupiter, Saturn, Uranus, Neptune and Pluto?\n",
    "\n",
    "# where\n",
    "earth_sma = 1 # AU\n",
    "mars_sma = 1.52 # AU\n",
    "jupiter_sma = 5.20445 # AU\n",
    "saturn_sma = 9.5825 # AU\n",
    "uranus_sma = 19.22 # AU\n",
    "neptune_sma = 30.07 # AU\n",
    "pluto_sma = 39.4815 # AU\n",
    "\n",
    "# Solution\n",
    "earth_period = math.sqrt(pow(earth_sma, 3))\n",
    "mars_period = math.sqrt(pow(mars_sma, 3))\n",
    "jupiter_period = math.sqrt(pow(jupiter_sma, 3))\n",
    "saturn_period = math.sqrt(pow(saturn_sma, 3))\n",
    "uranus_period = math.sqrt(pow(uranus_sma, 3))\n",
    "neptune_period = math.sqrt(pow(neptune_sma, 3))\n",
    "pluto_period = math.sqrt(pow(pluto_sma, 3))\n",
    "\n",
    "\n",
    "# Answer\n",
    "print(f'Earth: {earth_period} years')\n",
    "print(f'Mars: {mars_period:.2f} years')\n",
    "print(f'Jupiter: {jupiter_period:.2f} years')\n",
    "print(f'Saturn: {saturn_period:.2f} years')\n",
    "print(f'Uranus: {uranus_period:,.2f} years')\n",
    "print(f'Neptune: {neptune_period:,.2f} years')\n",
    "print(f'Pluto: {pluto_period:,.2f} years')"
   ]
  },
  {
   "cell_type": "code",
   "execution_count": null,
   "id": "facial-cambodia",
   "metadata": {},
   "outputs": [],
   "source": []
  }
 ],
 "metadata": {
  "kernelspec": {
   "display_name": "Python 3 (ipykernel)",
   "language": "python",
   "name": "python3"
  },
  "language_info": {
   "codemirror_mode": {
    "name": "ipython",
    "version": 3
   },
   "file_extension": ".py",
   "mimetype": "text/x-python",
   "name": "python",
   "nbconvert_exporter": "python",
   "pygments_lexer": "ipython3",
   "version": "3.8.12"
  }
 },
 "nbformat": 4,
 "nbformat_minor": 5
}
