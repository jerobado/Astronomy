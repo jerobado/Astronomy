{
 "cells": [
  {
   "cell_type": "code",
   "execution_count": 1,
   "id": "40b8fa80-c54e-467e-a9cb-c32ed6ac3da6",
   "metadata": {},
   "outputs": [],
   "source": [
    "# What is the average distance from the Sun (in astronomical units) of an asteriod with an orbital period of 8 years?"
   ]
  },
  {
   "cell_type": "code",
   "execution_count": 14,
   "id": "04c52e65-4f02-43c6-82d1-0e1df27f4622",
   "metadata": {},
   "outputs": [],
   "source": [
    "# Formula\n",
    "# a = (math.pow(P, 2)) ** (1. / 3)"
   ]
  },
  {
   "cell_type": "code",
   "execution_count": 13,
   "id": "39a3613e-019d-4734-9db6-08847381c5c0",
   "metadata": {},
   "outputs": [],
   "source": [
    "import math\n",
    "from astropy import units as u"
   ]
  },
  {
   "cell_type": "code",
   "execution_count": 18,
   "id": "5d6a7493-7bb5-4788-b92b-34ae34e40097",
   "metadata": {},
   "outputs": [],
   "source": [
    "# Where:\n",
    "P = 8"
   ]
  },
  {
   "cell_type": "code",
   "execution_count": 19,
   "id": "15947ec1-ca59-4ae3-b7a5-ff264a49cef9",
   "metadata": {},
   "outputs": [],
   "source": [
    "a = (math.pow(P, 2)) ** (1. / 3)"
   ]
  },
  {
   "cell_type": "code",
   "execution_count": 23,
   "id": "7f32eefc-bad3-4a5e-b848-b52ff84220d6",
   "metadata": {},
   "outputs": [
    {
     "data": {
      "text/plain": [
       "'The average distance of an asteriod is 4.00 AU'"
      ]
     },
     "execution_count": 23,
     "metadata": {},
     "output_type": "execute_result"
    }
   ],
   "source": [
    "f'The average distance of an asteriod is {a:.2f} AU'"
   ]
  },
  {
   "cell_type": "code",
   "execution_count": null,
   "id": "df6272d0-1407-487b-8d57-61f8375e138d",
   "metadata": {},
   "outputs": [],
   "source": []
  }
 ],
 "metadata": {
  "kernelspec": {
   "display_name": "Python 3 (ipykernel)",
   "language": "python",
   "name": "python3"
  },
  "language_info": {
   "codemirror_mode": {
    "name": "ipython",
    "version": 3
   },
   "file_extension": ".py",
   "mimetype": "text/x-python",
   "name": "python",
   "nbconvert_exporter": "python",
   "pygments_lexer": "ipython3",
   "version": "3.8.12"
  }
 },
 "nbformat": 4,
 "nbformat_minor": 5
}
